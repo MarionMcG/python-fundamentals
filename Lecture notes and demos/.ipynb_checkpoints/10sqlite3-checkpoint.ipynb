{
 "cells": [
  {
   "cell_type": "markdown",
   "metadata": {},
   "source": [
    "## Sqlite 3"
   ]
  },
  {
   "cell_type": "code",
   "execution_count": 20,
   "metadata": {},
   "outputs": [],
   "source": [
    "import sqlite3\n",
    "import pandas as pd"
   ]
  },
  {
   "cell_type": "markdown",
   "metadata": {},
   "source": [
    "Other database software stores data in many different files, but sqlite can store a database in a single file on our machine. "
   ]
  },
  {
   "cell_type": "markdown",
   "metadata": {},
   "source": [
    "- [SQLite3 Documentation](https://docs.python.org/2/library/sqlite3.html)\n",
    "- [SQL on W3schools](https://www.w3schools.com/sql/)"
   ]
  },
  {
   "cell_type": "markdown",
   "metadata": {},
   "source": [
    "### Create a Database"
   ]
  },
  {
   "cell_type": "code",
   "execution_count": null,
   "metadata": {},
   "outputs": [],
   "source": [
    "conn = sqlite3.connect('data/example.db')"
   ]
  },
  {
   "cell_type": "code",
   "execution_count": null,
   "metadata": {},
   "outputs": [],
   "source": [
    "c = conn.cursor()"
   ]
  },
  {
   "cell_type": "code",
   "execution_count": null,
   "metadata": {
    "scrolled": true
   },
   "outputs": [],
   "source": [
    "c.execute('CREATE TABLE person(name text, address text)')\n",
    "conn.commit()"
   ]
  },
  {
   "cell_type": "code",
   "execution_count": 22,
   "metadata": {},
   "outputs": [
    {
     "data": {
      "text/plain": [
       "[('person',)]"
      ]
     },
     "execution_count": 22,
     "metadata": {},
     "output_type": "execute_result"
    }
   ],
   "source": [
    "c.execute(\"SELECT name FROM sqlite_master WHERE type= 'table'\")\n",
    "c.fetchall()"
   ]
  },
  {
   "cell_type": "markdown",
   "metadata": {},
   "source": [
    "### Inserting Records into a Database"
   ]
  },
  {
   "cell_type": "code",
   "execution_count": null,
   "metadata": {},
   "outputs": [],
   "source": [
    "c.execute(\"INSERT INTO person VALUES ('Anna Henry', 'Carlow')\")\n",
    "conn.commit()"
   ]
  },
  {
   "cell_type": "code",
   "execution_count": 21,
   "metadata": {},
   "outputs": [
    {
     "data": {
      "text/plain": [
       "[('Anna Henry', 'Carlow'),\n",
       " ('Shelby Beck', 'Tipperary'),\n",
       " ('Marie Carr', 'Kerry'),\n",
       " ('Sarah Heath', 'Monaghan')]"
      ]
     },
     "execution_count": 21,
     "metadata": {},
     "output_type": "execute_result"
    }
   ],
   "source": [
    "# Astericks is wildcard and means SELECT all\n",
    "c.execute(\"SELECT * FROM person\")\n",
    "c.fetchall()"
   ]
  },
  {
   "cell_type": "code",
   "execution_count": null,
   "metadata": {},
   "outputs": [],
   "source": [
    "person = [('Shelby Beck', 'Tipperary'), ('Marie Carr', 'Kerry'), ('Sarah Heath', 'Monaghan')]"
   ]
  },
  {
   "cell_type": "code",
   "execution_count": 23,
   "metadata": {},
   "outputs": [
    {
     "data": {
      "text/plain": [
       "[('Shelby Beck', 'Tipperary'),\n",
       " ('Marie Carr', 'Kerry'),\n",
       " ('Sarah Heath', 'Monaghan')]"
      ]
     },
     "execution_count": 23,
     "metadata": {},
     "output_type": "execute_result"
    }
   ],
   "source": [
    "person"
   ]
  },
  {
   "cell_type": "code",
   "execution_count": null,
   "metadata": {},
   "outputs": [],
   "source": [
    "c.executemany(\"INSERT INTO person VALUES (?, ?)\", person)\n",
    "conn.commit()"
   ]
  },
  {
   "cell_type": "code",
   "execution_count": 24,
   "metadata": {},
   "outputs": [
    {
     "data": {
      "text/plain": [
       "[('Anna Henry', 'Carlow'),\n",
       " ('Shelby Beck', 'Tipperary'),\n",
       " ('Marie Carr', 'Kerry'),\n",
       " ('Sarah Heath', 'Monaghan')]"
      ]
     },
     "execution_count": 24,
     "metadata": {},
     "output_type": "execute_result"
    }
   ],
   "source": [
    "c.execute(\"SELECT * FROM person\")\n",
    "c.fetchall()"
   ]
  },
  {
   "cell_type": "markdown",
   "metadata": {},
   "source": [
    "### Primary Keys and Tables"
   ]
  },
  {
   "cell_type": "markdown",
   "metadata": {},
   "source": [
    "All Databases have constraints. You can create your own, but some constraints are default. One of them is the fact that many Databases don't allow you to insert the same data twice. \n",
    "\n",
    "SQLite lets you do this. That's because it assigns Row ID to each new entry. So even though your data looks identical, it has different IDs."
   ]
  },
  {
   "cell_type": "code",
   "execution_count": 25,
   "metadata": {},
   "outputs": [],
   "source": [
    "# Add Ann Henry again\n",
    "c.execute(\"INSERT INTO person VALUES ('Anna Henry', 'Carlow')\")\n",
    "conn.commit()"
   ]
  },
  {
   "cell_type": "code",
   "execution_count": 26,
   "metadata": {},
   "outputs": [
    {
     "data": {
      "text/plain": [
       "[('Anna Henry', 'Carlow'),\n",
       " ('Shelby Beck', 'Tipperary'),\n",
       " ('Marie Carr', 'Kerry'),\n",
       " ('Sarah Heath', 'Monaghan'),\n",
       " ('Anna Henry', 'Carlow')]"
      ]
     },
     "execution_count": 26,
     "metadata": {},
     "output_type": "execute_result"
    }
   ],
   "source": [
    "c.execute(\"SELECT * FROM person\")\n",
    "c.fetchall()"
   ]
  },
  {
   "cell_type": "code",
   "execution_count": 31,
   "metadata": {},
   "outputs": [],
   "source": [
    "# Deleting the first Ann Henry row\n",
    "c.execute('DELETE FROM person where ROWID=1')\n",
    "conn.commit()"
   ]
  },
  {
   "cell_type": "code",
   "execution_count": 28,
   "metadata": {},
   "outputs": [
    {
     "data": {
      "text/plain": [
       "[('Shelby Beck', 'Tipperary'),\n",
       " ('Marie Carr', 'Kerry'),\n",
       " ('Sarah Heath', 'Monaghan'),\n",
       " ('Anna Henry', 'Carlow')]"
      ]
     },
     "execution_count": 28,
     "metadata": {},
     "output_type": "execute_result"
    }
   ],
   "source": [
    "c.execute(\"SELECT * FROM person\")\n",
    "c.fetchall()"
   ]
  },
  {
   "cell_type": "code",
   "execution_count": 29,
   "metadata": {},
   "outputs": [],
   "source": [
    "c.execute(\"INSERT INTO person VALUES ('Robert Snyder', 'Leitrim')\")\n",
    "conn.commit()"
   ]
  },
  {
   "cell_type": "code",
   "execution_count": 32,
   "metadata": {},
   "outputs": [
    {
     "data": {
      "text/plain": [
       "[(2, 'Shelby Beck', 'Tipperary'),\n",
       " (3, 'Marie Carr', 'Kerry'),\n",
       " (4, 'Sarah Heath', 'Monaghan'),\n",
       " (5, 'Anna Henry', 'Carlow'),\n",
       " (6, 'Robert Snyder', 'Leitrim')]"
      ]
     },
     "execution_count": 32,
     "metadata": {},
     "output_type": "execute_result"
    }
   ],
   "source": [
    "# List row id, name and addresses from DB\n",
    "c.execute(\"SELECT ROWID, name, address FROM person\")\n",
    "c.fetchall()"
   ]
  },
  {
   "cell_type": "markdown",
   "metadata": {},
   "source": [
    "### SQLite3 with Pandas"
   ]
  },
  {
   "cell_type": "code",
   "execution_count": 62,
   "metadata": {},
   "outputs": [],
   "source": [
    "# Deleting a table. VERY DANGEROUS THING TO DO. \n",
    "# Completely deletes the data, and can only be retrieved if you have a backup.\n",
    "c.execute(\"DROP TABLE person\")\n",
    "conn.commit()"
   ]
  },
  {
   "cell_type": "code",
   "execution_count": 63,
   "metadata": {},
   "outputs": [
    {
     "data": {
      "text/plain": [
       "[(0, 'Anna Henry', 'Carlow'),\n",
       " (1, 'Shelby Beck', 'Tipperary'),\n",
       " (2, 'Marie Carr', 'Kerry'),\n",
       " (3, 'Sarah Heath', 'Monaghan'),\n",
       " (4, 'Robert Snyder', 'Leitrim'),\n",
       " (5, 'Lucas Ross', 'Cork'),\n",
       " (6, 'David Cox', 'Leitrim'),\n",
       " (7, 'Jackson Dean', 'Louth'),\n",
       " (8, 'Elizabeth Mcfarland', 'Dublin'),\n",
       " (9, 'Timothy Cummings', 'Limerick'),\n",
       " (10, 'Jennifer Reeves', 'Offaly'),\n",
       " (11, 'Sandra Knight', 'Offaly'),\n",
       " (12, 'Karen Roach', 'Sligo'),\n",
       " (13, 'Megan Clarke', 'Kildare'),\n",
       " (14, 'Hannah Collier', 'Leitrim'),\n",
       " (15, 'Crystal Murphy', 'Clare'),\n",
       " (16, 'Jacob Moore', 'Longford'),\n",
       " (17, 'Valerie Stewart', 'Longford'),\n",
       " (18, 'Mrs. Kerry Romero', 'Limerick'),\n",
       " (19, 'Richard Foley', 'Offaly'),\n",
       " (20, 'Billy King', 'Louth'),\n",
       " (21, 'Christopher Mcmahon', 'Limerick'),\n",
       " (22, 'Gregory Vazquez', 'Sligo'),\n",
       " (23, 'George Fitzgerald', 'Carlow'),\n",
       " (24, 'Joshua Perez', 'Galway'),\n",
       " (25, 'Leonard Brown', 'Sligo'),\n",
       " (26, 'Anne Anderson', 'Cork'),\n",
       " (27, 'Marc Chapman', 'Dublin'),\n",
       " (28, 'Connie Walls', 'Limerick'),\n",
       " (29, 'Seth Simpson', 'Westmeath'),\n",
       " (30, 'Laura Miller', 'Louth'),\n",
       " (31, 'William Hall', 'Kerry'),\n",
       " (32, 'Katherine Dalton', 'Kildare'),\n",
       " (33, 'Alan Williams', 'Galway'),\n",
       " (34, 'Diane Hunt', 'Westmeath'),\n",
       " (35, 'Lauren Long', 'Louth'),\n",
       " (36, 'James Williams', 'Kilkenny'),\n",
       " (37, 'Jeremiah Soto', 'Sligo'),\n",
       " (38, 'Gregory Charles', 'Wicklow'),\n",
       " (39, 'Raymond Gould', 'Clare'),\n",
       " (40, 'Susan Cummings', 'Cork'),\n",
       " (41, 'Megan Reyes', 'Offaly'),\n",
       " (42, 'Devin Shaw', 'Wexford'),\n",
       " (43, 'Kathleen Henderson', 'Monaghan'),\n",
       " (44, 'John Davis', 'Dublin'),\n",
       " (45, 'Melanie White', 'Carlow'),\n",
       " (46, 'Kerry Curry', 'Galway'),\n",
       " (47, 'Nathan Smith', 'Roscommon'),\n",
       " (48, 'Sara Lee', 'Laois'),\n",
       " (49, 'Valerie Rodriguez', 'Kerry'),\n",
       " (50, 'Raymond Perkins', 'Clare'),\n",
       " (51, 'David Matthews', 'Leitrim'),\n",
       " (52, 'Lori Harmon', 'Carlow'),\n",
       " (53, 'Kayla Rodriguez DVM', 'Clare'),\n",
       " (54, 'Alan Cabrera', 'Leitrim'),\n",
       " (55, 'Elizabeth Harper', 'Donegal'),\n",
       " (56, 'Glenn Gonzalez', 'Leitrim'),\n",
       " (57, 'Robert Price', 'Dublin'),\n",
       " (58, 'Tina Holland', 'Sligo'),\n",
       " (59, 'Melinda Blackwell', 'Mayo'),\n",
       " (60, 'Christina Bautista', 'Longford'),\n",
       " (61, 'Scott Whitaker', 'Offaly'),\n",
       " (62, 'Jeff Stevens', 'Dublin'),\n",
       " (63, 'Robert Acevedo', 'Meath'),\n",
       " (64, 'Tracey Olson', 'Kilkenny'),\n",
       " (65, 'James Walker', 'Tipperary'),\n",
       " (66, 'Jennifer Sutton', 'Mayo'),\n",
       " (67, 'Nicholas Carrillo', 'Laois'),\n",
       " (68, 'Emily Cooper', 'Kildare'),\n",
       " (69, 'Sabrina Thompson', 'Longford'),\n",
       " (70, 'Jenny Juarez', 'Longford'),\n",
       " (71, 'Melissa Lowe', 'Westmeath'),\n",
       " (72, 'Jesse Chavez', 'Meath'),\n",
       " (73, 'Kelly Walker', 'Kildare'),\n",
       " (74, 'Leonard Chen', 'Galway'),\n",
       " (75, 'Peter Vaughn DDS', 'Cork'),\n",
       " (76, 'Justin Casey', 'Louth'),\n",
       " (77, 'Shannon Oneal', 'Sligo'),\n",
       " (78, 'Robert Fields', 'Louth'),\n",
       " (79, 'Marcus Malone', 'Kildare'),\n",
       " (80, 'Paul Nicholson', 'Wexford'),\n",
       " (81, 'Jared Nguyen', 'Cavan'),\n",
       " (82, 'Mrs. Sheila Wilkerson', 'Tipperary'),\n",
       " (83, 'Emily Alvarado', 'Longford'),\n",
       " (84, 'Christopher Miller', 'Kerry'),\n",
       " (85, 'Carrie Sullivan', 'Galway'),\n",
       " (86, 'Jordan Velasquez', 'Galway'),\n",
       " (87, 'Melissa Bell', 'Kildare'),\n",
       " (88, 'Frederick Schwartz', 'Dublin'),\n",
       " (89, 'Stephanie Yates', 'Meath'),\n",
       " (90, 'Lori Martin', 'Westmeath'),\n",
       " (91, 'Donna Mason', 'Longford'),\n",
       " (92, 'Rachel Johnson', 'Kildare'),\n",
       " (93, 'Morgan Marsh', 'Westmeath'),\n",
       " (94, 'Daniel Smith', 'Limerick'),\n",
       " (95, 'Joseph Griffith', 'Wicklow'),\n",
       " (96, 'Stephen Oneal', 'Louth'),\n",
       " (97, 'Dana Wade', 'Mayo'),\n",
       " (98, 'Gail Jones', 'Waterford'),\n",
       " (99, 'Paul Raymond', 'Louth')]"
      ]
     },
     "execution_count": 63,
     "metadata": {},
     "output_type": "execute_result"
    }
   ],
   "source": [
    "person = pd.read_csv('data/person.csv')\n",
    "person.to_sql(\"person\", conn)\n",
    "c.execute('SELECT * FROM person')\n",
    "c.fetchall()"
   ]
  },
  {
   "cell_type": "code",
   "execution_count": null,
   "metadata": {},
   "outputs": [],
   "source": [
    "cars = pd.read_csv('data/cars.csv')\n",
    "cars.to_sql(\"cars\", conn)"
   ]
  },
  {
   "cell_type": "code",
   "execution_count": 69,
   "metadata": {},
   "outputs": [
    {
     "data": {
      "text/plain": [
       "[(0, '08-SO-11072', 9),\n",
       " (1, '16-KE-16368', 97),\n",
       " (2, '08-LD-16871', 17),\n",
       " (3, '11-KY-17442', 22),\n",
       " (4, '16-LD-17545', 48),\n",
       " (5, '10-WH-3543', 10),\n",
       " (6, '03-KE-8148', 74),\n",
       " (7, '06-G-23024', 4),\n",
       " (8, '08-LS-21770', 93),\n",
       " (9, '03-WX-41717', 53),\n",
       " (10, '01-T-37495', 63),\n",
       " (11, '11-WH-22446', 40),\n",
       " (12, '09-MN-43311', 26),\n",
       " (13, '05-KK-2596', 0),\n",
       " (14, '17-SO-17328', 45),\n",
       " (15, '99-L-23440', 76),\n",
       " (16, '05-WX-31122', 16),\n",
       " (17, '16-LS-41756', 91),\n",
       " (18, '16-RN-45098', 25),\n",
       " (19, '16-C-27251', 80),\n",
       " (20, '06-LD-43721', 89),\n",
       " (21, '03-RN-2898', 28),\n",
       " (22, '10-CW-49121', 58),\n",
       " (23, '15-LS-45283', 67),\n",
       " (24, '08-D-43986', 0),\n",
       " (25, '08-DL-49460', 42),\n",
       " (26, '08-DL-20130', 59),\n",
       " (27, '10-WX-18691', 4),\n",
       " (28, '08-T-37917', 2),\n",
       " (29, '15-D-6469', 6),\n",
       " (30, '08-L-26251', 19),\n",
       " (31, '15-DL-15311', 54),\n",
       " (32, '14-KE-41007', 79),\n",
       " (33, '14-DL-12858', 89),\n",
       " (34, '04-WH-36658', 34),\n",
       " (35, '00-MO-9632', 18),\n",
       " (36, '99-RN-41288', 43),\n",
       " (37, '13-MO-7316', 18),\n",
       " (38, '00-MH-17952', 38),\n",
       " (39, '18-LM-29466', 36),\n",
       " (40, '08-D-18591', 23),\n",
       " (41, '01-KK-27583', 89),\n",
       " (42, '13-T-24765', 20),\n",
       " (43, '01-RN-44780', 31),\n",
       " (44, '04-LD-24948', 25),\n",
       " (45, '13-SO-2521', 49),\n",
       " (46, '16-WH-32130', 25),\n",
       " (47, '13-KE-37707', 11),\n",
       " (48, '99-CN-35366', 82),\n",
       " (49, '18-CN-17743', 27),\n",
       " (50, '05-LS-6602', 33),\n",
       " (51, '02-T-2683', 91),\n",
       " (52, '06-LD-44064', 11),\n",
       " (53, '14-SO-35322', 28),\n",
       " (54, '00-MH-30641', 3),\n",
       " (55, '17-MH-38452', 12),\n",
       " (56, '01-KY-40015', 1),\n",
       " (57, '13-G-17426', 30),\n",
       " (58, '03-LM-41543', 78),\n",
       " (59, '00-LH-46635', 18),\n",
       " (60, '09-SO-26131', 97),\n",
       " (61, '00-OY-15049', 56),\n",
       " (62, '12-G-20496', 72),\n",
       " (63, '04-RN-2959', 59),\n",
       " (64, '07-KY-17472', 1),\n",
       " (65, '03-KY-23864', 65),\n",
       " (66, '03-CW-12234', 57),\n",
       " (67, '04-LS-17699', 49),\n",
       " (68, '12-MO-21340', 59),\n",
       " (69, '14-WW-26729', 50),\n",
       " (70, '08-KK-6963', 28),\n",
       " (71, '03-D-36946', 61),\n",
       " (72, '03-WX-39739', 15),\n",
       " (73, '15-MO-29166', 9),\n",
       " (74, '09-LM-6757', 53),\n",
       " (75, '99-LD-27879', 2),\n",
       " (76, '16-WX-38806', 50),\n",
       " (77, '06-KE-13830', 67),\n",
       " (78, '00-OY-18653', 83),\n",
       " (79, '09-G-14895', 18),\n",
       " (80, '06-LH-39166', 61),\n",
       " (81, '10-MO-45154', 93),\n",
       " (82, '04-WH-37901', 55),\n",
       " (83, '13-DL-46087', 96),\n",
       " (84, '14-CN-12576', 76),\n",
       " (85, '15-D-4470', 88),\n",
       " (86, '00-MO-32274', 21),\n",
       " (87, '15-WH-21313', 80),\n",
       " (88, '08-D-29496', 59),\n",
       " (89, '00-LD-24730', 75),\n",
       " (90, '14-OY-15669', 38),\n",
       " (91, '00-MO-6904', 75),\n",
       " (92, '17-DL-4885', 5),\n",
       " (93, '05-MN-17446', 70),\n",
       " (94, '04-L-19474', 86),\n",
       " (95, '99-WW-237', 33),\n",
       " (96, '03-G-36241', 46),\n",
       " (97, '09-W-11201', 3),\n",
       " (98, '13-MO-34031', 63),\n",
       " (99, '02-KK-25507', 58),\n",
       " (100, '08-LH-46637', 92),\n",
       " (101, '12-KY-47631', 80),\n",
       " (102, '01-SO-45136', 66),\n",
       " (103, '18-WH-15349', 37),\n",
       " (104, '14-MO-11345', 37),\n",
       " (105, '13-CE-10371', 30),\n",
       " (106, '17-KE-21153', 88),\n",
       " (107, '12-G-30288', 92),\n",
       " (108, '13-T-20412', 16),\n",
       " (109, '08-LS-13835', 5),\n",
       " (110, '12-CW-37691', 42),\n",
       " (111, '00-KY-48702', 3),\n",
       " (112, '14-LD-41919', 28),\n",
       " (113, '18-W-16094', 30),\n",
       " (114, '11-MH-39456', 16),\n",
       " (115, '01-KK-21586', 92),\n",
       " (116, '09-WX-7243', 11),\n",
       " (117, '12-WX-26308', 13),\n",
       " (118, '02-LS-42993', 58),\n",
       " (119, '18-W-44751', 67),\n",
       " (120, '11-L-45810', 74),\n",
       " (121, '12-MH-7025', 50),\n",
       " (122, '09-CW-13802', 34),\n",
       " (123, '11-KK-40419', 67),\n",
       " (124, '09-MO-27719', 28),\n",
       " (125, '99-RN-21293', 92),\n",
       " (126, '06-KK-24445', 39),\n",
       " (127, '99-DL-44188', 97),\n",
       " (128, '17-CW-12306', 5),\n",
       " (129, '12-WH-30512', 45),\n",
       " (130, '13-CW-22728', 91),\n",
       " (131, '15-G-27780', 86),\n",
       " (132, '99-WX-37648', 93),\n",
       " (133, '07-G-30931', 32),\n",
       " (134, '08-G-34713', 18),\n",
       " (135, '03-MO-23757', 75),\n",
       " (136, '09-LD-32395', 93),\n",
       " (137, '05-KE-47018', 91),\n",
       " (138, '18-RN-21403', 40),\n",
       " (139, '02-LH-37988', 99),\n",
       " (140, '11-T-29849', 43),\n",
       " (141, '99-MN-36507', 33),\n",
       " (142, '15-SO-10080', 38),\n",
       " (143, '10-KE-5471', 49),\n",
       " (144, '09-C-15081', 40),\n",
       " (145, '12-D-10674', 1),\n",
       " (146, '16-KK-6777', 62),\n",
       " (147, '09-KY-24502', 47),\n",
       " (148, '06-L-13615', 62),\n",
       " (149, '11-WX-6607', 79),\n",
       " (150, '99-KY-44876', 72),\n",
       " (151, '01-KE-7495', 40),\n",
       " (152, '06-WH-45961', 76),\n",
       " (153, '13-RN-48840', 77),\n",
       " (154, '15-LS-32504', 87),\n",
       " (155, '09-KK-33938', 53),\n",
       " (156, '15-SO-48732', 25),\n",
       " (157, '18-LH-9276', 58),\n",
       " (158, '00-T-13145', 10),\n",
       " (159, '17-L-8077', 91),\n",
       " (160, '16-KY-38486', 50),\n",
       " (161, '13-C-5004', 43),\n",
       " (162, '13-KE-8122', 69),\n",
       " (163, '13-D-16232', 8),\n",
       " (164, '07-OY-29590', 64),\n",
       " (165, '18-LS-3902', 44),\n",
       " (166, '07-LD-25411', 60),\n",
       " (167, '11-OY-49718', 29),\n",
       " (168, '09-OY-12095', 68),\n",
       " (169, '10-RN-14168', 83),\n",
       " (170, '00-CN-12132', 70),\n",
       " (171, '14-G-24691', 75),\n",
       " (172, '08-L-9335', 28),\n",
       " (173, '13-LS-7544', 18),\n",
       " (174, '15-RN-47108', 11),\n",
       " (175, '16-RN-12605', 42),\n",
       " (176, '15-WX-13974', 70),\n",
       " (177, '00-T-26883', 33),\n",
       " (178, '01-C-1695', 85),\n",
       " (179, '11-WW-3780', 33),\n",
       " (180, '06-CW-29425', 58),\n",
       " (181, '04-MN-1637', 30),\n",
       " (182, '14-OY-39752', 50),\n",
       " (183, '15-MO-15513', 76),\n",
       " (184, '16-MN-22976', 57),\n",
       " (185, '07-OY-14928', 84),\n",
       " (186, '09-L-10881', 22),\n",
       " (187, '99-WX-23085', 94),\n",
       " (188, '01-DL-25359', 49),\n",
       " (189, '00-MO-45664', 55),\n",
       " (190, '08-WW-30636', 94),\n",
       " (191, '01-CN-16097', 13),\n",
       " (192, '07-LM-3132', 58),\n",
       " (193, '09-T-9813', 27),\n",
       " (194, '16-KK-30424', 0),\n",
       " (195, '99-CE-38547', 72),\n",
       " (196, '10-LM-31279', 3),\n",
       " (197, '18-LH-44089', 80),\n",
       " (198, '02-SO-11359', 51),\n",
       " (199, '10-KE-33674', 8),\n",
       " (200, '15-KE-8245', 23),\n",
       " (201, '09-KK-23170', 50),\n",
       " (202, '14-CN-36381', 21),\n",
       " (203, '00-C-29416', 60),\n",
       " (204, '10-OY-1992', 21),\n",
       " (205, '10-T-36797', 51),\n",
       " (206, '07-KY-35080', 92),\n",
       " (207, '08-MO-42969', 98),\n",
       " (208, '07-OY-23008', 62),\n",
       " (209, '14-MO-46320', 95),\n",
       " (210, '09-CW-29560', 32),\n",
       " (211, '03-MH-49587', 42),\n",
       " (212, '10-MH-34061', 99),\n",
       " (213, '08-OY-35517', 5),\n",
       " (214, '04-KY-47667', 75),\n",
       " (215, '03-C-18358', 22),\n",
       " (216, '11-DL-2662', 79),\n",
       " (217, '06-CW-15872', 98),\n",
       " (218, '08-KE-7824', 70),\n",
       " (219, '14-WH-21137', 69),\n",
       " (220, '11-W-6130', 43),\n",
       " (221, '03-C-4508', 39),\n",
       " (222, '02-CN-35760', 8),\n",
       " (223, '13-C-5330', 13),\n",
       " (224, '07-CN-40170', 76),\n",
       " (225, '07-CW-32094', 49),\n",
       " (226, '13-CW-22639', 33),\n",
       " (227, '10-LD-39262', 33),\n",
       " (228, '14-CE-46501', 89),\n",
       " (229, '16-WW-18559', 40),\n",
       " (230, '11-LD-42457', 84),\n",
       " (231, '02-W-35723', 77),\n",
       " (232, '13-RN-4833', 58),\n",
       " (233, '01-KK-12540', 12),\n",
       " (234, '14-CN-39530', 30),\n",
       " (235, '08-T-1665', 85),\n",
       " (236, '13-LH-30593', 88),\n",
       " (237, '06-C-24008', 85),\n",
       " (238, '12-LH-5689', 13),\n",
       " (239, '05-WW-47977', 74),\n",
       " (240, '09-KK-5328', 40),\n",
       " (241, '10-DL-6386', 2),\n",
       " (242, '05-MH-22339', 44),\n",
       " (243, '02-MH-44541', 7),\n",
       " (244, '18-MN-26444', 72),\n",
       " (245, '12-LM-22338', 38),\n",
       " (246, '18-KY-29981', 42),\n",
       " (247, '01-G-8684', 30),\n",
       " (248, '04-KY-32797', 27),\n",
       " (249, '08-LD-12240', 80),\n",
       " (250, '18-WW-11514', 91),\n",
       " (251, '03-L-40377', 97),\n",
       " (252, '15-G-37225', 70),\n",
       " (253, '14-CN-41515', 83),\n",
       " (254, '09-LS-131', 78),\n",
       " (255, '12-LS-47102', 6),\n",
       " (256, '15-WX-8189', 54),\n",
       " (257, '13-CW-21688', 91),\n",
       " (258, '15-DL-3247', 44),\n",
       " (259, '02-D-22267', 50),\n",
       " (260, '01-LS-33323', 63),\n",
       " (261, '10-WH-9955', 75),\n",
       " (262, '03-MO-4365', 95),\n",
       " (263, '04-LD-23688', 95),\n",
       " (264, '13-G-16885', 33),\n",
       " (265, '18-KE-36389', 70),\n",
       " (266, '01-T-15866', 71),\n",
       " (267, '08-KE-16056', 84),\n",
       " (268, '13-G-24475', 53),\n",
       " (269, '03-MO-25665', 68),\n",
       " (270, '18-T-2425', 89),\n",
       " (271, '04-WW-24305', 55),\n",
       " (272, '13-OY-23701', 77),\n",
       " (273, '08-MO-46007', 51),\n",
       " (274, '00-L-47267', 57),\n",
       " (275, '08-KK-47849', 68),\n",
       " (276, '16-MN-41115', 55),\n",
       " (277, '02-DL-7526', 97),\n",
       " (278, '01-G-15863', 45),\n",
       " (279, '14-SO-6402', 55),\n",
       " (280, '02-CN-7196', 52),\n",
       " (281, '01-CW-35670', 21),\n",
       " (282, '16-T-45794', 11),\n",
       " (283, '03-KK-1616', 0),\n",
       " (284, '08-WX-43305', 10),\n",
       " (285, '15-W-31836', 82),\n",
       " (286, '03-KE-1400', 40),\n",
       " (287, '08-WW-22857', 81),\n",
       " (288, '15-L-48040', 55),\n",
       " (289, '05-CN-49186', 89),\n",
       " (290, '18-T-43669', 64),\n",
       " (291, '05-WX-40194', 44),\n",
       " (292, '08-LH-30886', 0),\n",
       " (293, '07-G-36331', 45),\n",
       " (294, '06-WW-48865', 74),\n",
       " (295, '16-MO-40801', 25),\n",
       " (296, '15-L-37732', 23),\n",
       " (297, '10-G-21752', 98),\n",
       " (298, '08-C-34297', 40),\n",
       " (299, '17-SO-23443', 16),\n",
       " (300, '05-CN-5924', 97),\n",
       " (301, '05-W-22770', 6),\n",
       " (302, '10-LH-34050', 24),\n",
       " (303, '16-LS-26245', 78),\n",
       " (304, '05-D-30917', 14),\n",
       " (305, '07-G-48955', 97),\n",
       " (306, '13-G-48846', 34),\n",
       " (307, '05-L-42386', 13),\n",
       " (308, '08-T-12971', 19),\n",
       " (309, '18-WH-6082', 85),\n",
       " (310, '12-MO-30235', 94),\n",
       " (311, '16-T-22243', 44),\n",
       " (312, '03-L-37130', 62),\n",
       " (313, '12-MO-18353', 42),\n",
       " (314, '11-MN-11186', 78),\n",
       " (315, '05-WX-40062', 57),\n",
       " (316, '04-D-38409', 71),\n",
       " (317, '16-CE-29807', 31),\n",
       " (318, '15-D-4632', 95),\n",
       " (319, '14-LM-31240', 24),\n",
       " (320, '15-LH-20280', 6),\n",
       " (321, '04-L-14265', 62),\n",
       " (322, '05-KK-13066', 11),\n",
       " (323, '02-MN-14407', 86),\n",
       " (324, '11-CE-42446', 81),\n",
       " (325, '16-W-29168', 71),\n",
       " (326, '03-G-19542', 32),\n",
       " (327, '18-MO-35400', 14),\n",
       " (328, '11-KK-35894', 33),\n",
       " (329, '07-G-5958', 29)]"
      ]
     },
     "execution_count": 69,
     "metadata": {},
     "output_type": "execute_result"
    }
   ],
   "source": [
    "c.execute('SELECT * FROM cars')\n",
    "c.fetchall()"
   ]
  },
  {
   "cell_type": "code",
   "execution_count": 61,
   "metadata": {},
   "outputs": [],
   "source": [
    "county = pd.read_csv('data/county.csv')\n",
    "county.to_sql(\"county\", conn)"
   ]
  },
  {
   "cell_type": "code",
   "execution_count": 70,
   "metadata": {},
   "outputs": [
    {
     "data": {
      "text/plain": [
       "[(0, 'CW', 'Carlow'),\n",
       " (1, 'CN', 'Cavan'),\n",
       " (2, 'CE', 'Clare'),\n",
       " (3, 'C', 'Cork'),\n",
       " (4, 'DL', 'Donegal'),\n",
       " (5, 'D', 'Dublin'),\n",
       " (6, 'G', 'Galway'),\n",
       " (7, 'KY', 'Kerry'),\n",
       " (8, 'KE', 'Kildare'),\n",
       " (9, 'KK', 'Kilkenny'),\n",
       " (10, 'LS', 'Laois'),\n",
       " (11, 'LM', 'Leitrim'),\n",
       " (12, 'L', 'Limerick'),\n",
       " (13, 'LD', 'Longford'),\n",
       " (14, 'LH', 'Louth'),\n",
       " (15, 'MO', 'Mayo'),\n",
       " (16, 'MH', 'Meath'),\n",
       " (17, 'MN', 'Monaghan'),\n",
       " (18, 'OY', 'Offaly'),\n",
       " (19, 'RN', 'Roscommon'),\n",
       " (20, 'SO', 'Sligo'),\n",
       " (21, 'T', 'Tipperary'),\n",
       " (22, 'W', 'Waterford'),\n",
       " (23, 'WH', 'Westmeath'),\n",
       " (24, 'WX', 'Wexford'),\n",
       " (25, 'WW', 'Wicklow')]"
      ]
     },
     "execution_count": 70,
     "metadata": {},
     "output_type": "execute_result"
    }
   ],
   "source": [
    "c.execute('SELECT * FROM county')\n",
    "c.fetchall()"
   ]
  },
  {
   "cell_type": "code",
   "execution_count": 71,
   "metadata": {},
   "outputs": [
    {
     "data": {
      "text/plain": [
       "[('car',), ('cars',), ('county',), ('person',)]"
      ]
     },
     "execution_count": 71,
     "metadata": {},
     "output_type": "execute_result"
    }
   ],
   "source": [
    "c.execute(\"SELECT name FROM sqlite_master WHERE type= 'table'\")\n",
    "c.fetchall()"
   ]
  },
  {
   "cell_type": "code",
   "execution_count": 72,
   "metadata": {},
   "outputs": [],
   "source": [
    "# Delete Duplicate\n",
    "c.execute(\"DROP TABLE cars\")\n",
    "conn.commit()"
   ]
  },
  {
   "cell_type": "code",
   "execution_count": 73,
   "metadata": {},
   "outputs": [
    {
     "data": {
      "text/plain": [
       "[('car',), ('county',), ('person',)]"
      ]
     },
     "execution_count": 73,
     "metadata": {},
     "output_type": "execute_result"
    }
   ],
   "source": [
    "c.execute(\"SELECT name FROM sqlite_master WHERE type= 'table'\")\n",
    "c.fetchall()"
   ]
  },
  {
   "cell_type": "markdown",
   "metadata": {},
   "source": [
    "### Other Functionality"
   ]
  },
  {
   "cell_type": "code",
   "execution_count": 77,
   "metadata": {},
   "outputs": [
    {
     "data": {
      "text/plain": [
       "[('Elizabeth Mcfarland', '08-SO-11072'),\n",
       " ('Stephen Oneal', '16-KE-16368'),\n",
       " ('Jacob Moore', '08-LD-16871'),\n",
       " ('Christopher Mcmahon', '11-KY-17442'),\n",
       " ('Nathan Smith', '16-LD-17545'),\n",
       " ('Timothy Cummings', '10-WH-3543'),\n",
       " ('Kelly Walker', '03-KE-8148'),\n",
       " ('Sarah Heath', '06-G-23024'),\n",
       " ('Rachel Johnson', '08-LS-21770'),\n",
       " ('Lori Harmon', '03-WX-41717'),\n",
       " ('Jeff Stevens', '01-T-37495'),\n",
       " ('Raymond Gould', '11-WH-22446'),\n",
       " ('Leonard Brown', '09-MN-43311'),\n",
       " ('John Davis', '17-SO-17328'),\n",
       " ('Peter Vaughn DDS', '99-L-23440'),\n",
       " ('Crystal Murphy', '05-WX-31122'),\n",
       " ('Lori Martin', '16-LS-41756'),\n",
       " ('Joshua Perez', '16-RN-45098'),\n",
       " ('Marcus Malone', '16-C-27251'),\n",
       " ('Frederick Schwartz', '06-LD-43721'),\n",
       " ('Marc Chapman', '03-RN-2898'),\n",
       " ('Robert Price', '10-CW-49121'),\n",
       " ('Jennifer Sutton', '15-LS-45283'),\n",
       " ('Megan Reyes', '08-DL-49460'),\n",
       " ('Tina Holland', '08-DL-20130'),\n",
       " ('Sarah Heath', '10-WX-18691'),\n",
       " ('Shelby Beck', '08-T-37917'),\n",
       " ('Lucas Ross', '15-D-6469'),\n",
       " ('Mrs. Kerry Romero', '08-L-26251'),\n",
       " ('Kayla Rodriguez DVM', '15-DL-15311'),\n",
       " ('Robert Fields', '14-KE-41007'),\n",
       " ('Frederick Schwartz', '14-DL-12858'),\n",
       " ('Alan Williams', '04-WH-36658'),\n",
       " ('Valerie Stewart', '00-MO-9632'),\n",
       " ('Devin Shaw', '99-RN-41288'),\n",
       " ('Valerie Stewart', '13-MO-7316'),\n",
       " ('Jeremiah Soto', '00-MH-17952'),\n",
       " ('Lauren Long', '18-LM-29466'),\n",
       " ('Gregory Vazquez', '08-D-18591'),\n",
       " ('Frederick Schwartz', '01-KK-27583'),\n",
       " ('Richard Foley', '13-T-24765'),\n",
       " ('Laura Miller', '01-RN-44780'),\n",
       " ('Joshua Perez', '04-LD-24948'),\n",
       " ('Sara Lee', '13-SO-2521'),\n",
       " ('Joshua Perez', '16-WH-32130'),\n",
       " ('Jennifer Reeves', '13-KE-37707'),\n",
       " ('Jared Nguyen', '99-CN-35366'),\n",
       " ('Anne Anderson', '18-CN-17743'),\n",
       " ('Katherine Dalton', '05-LS-6602'),\n",
       " ('Lori Martin', '02-T-2683'),\n",
       " ('Jennifer Reeves', '06-LD-44064'),\n",
       " ('Marc Chapman', '14-SO-35322'),\n",
       " ('Marie Carr', '00-MH-30641'),\n",
       " ('Sandra Knight', '17-MH-38452'),\n",
       " ('Anna Henry', '01-KY-40015'),\n",
       " ('Seth Simpson', '13-G-17426'),\n",
       " ('Shannon Oneal', '03-LM-41543'),\n",
       " ('Valerie Stewart', '00-LH-46635'),\n",
       " ('Stephen Oneal', '09-SO-26131'),\n",
       " ('Elizabeth Harper', '00-OY-15049'),\n",
       " ('Melissa Lowe', '12-G-20496'),\n",
       " ('Tina Holland', '04-RN-2959'),\n",
       " ('Anna Henry', '07-KY-17472'),\n",
       " ('Tracey Olson', '03-KY-23864'),\n",
       " ('Glenn Gonzalez', '03-CW-12234'),\n",
       " ('Sara Lee', '04-LS-17699'),\n",
       " ('Tina Holland', '12-MO-21340'),\n",
       " ('Valerie Rodriguez', '14-WW-26729'),\n",
       " ('Marc Chapman', '08-KK-6963'),\n",
       " ('Christina Bautista', '03-D-36946'),\n",
       " ('Hannah Collier', '03-WX-39739'),\n",
       " ('Elizabeth Mcfarland', '15-MO-29166'),\n",
       " ('Lori Harmon', '09-LM-6757'),\n",
       " ('Shelby Beck', '99-LD-27879'),\n",
       " ('Valerie Rodriguez', '16-WX-38806'),\n",
       " ('Jennifer Sutton', '06-KE-13830'),\n",
       " ('Mrs. Sheila Wilkerson', '00-OY-18653'),\n",
       " ('Valerie Stewart', '09-G-14895'),\n",
       " ('Christina Bautista', '06-LH-39166'),\n",
       " ('Rachel Johnson', '10-MO-45154'),\n",
       " ('Alan Cabrera', '04-WH-37901'),\n",
       " ('Joseph Griffith', '13-DL-46087'),\n",
       " ('Peter Vaughn DDS', '14-CN-12576'),\n",
       " ('Melissa Bell', '15-D-4470'),\n",
       " ('Billy King', '00-MO-32274'),\n",
       " ('Marcus Malone', '15-WH-21313'),\n",
       " ('Tina Holland', '08-D-29496'),\n",
       " ('Leonard Chen', '00-LD-24730'),\n",
       " ('Jeremiah Soto', '14-OY-15669'),\n",
       " ('Leonard Chen', '00-MO-6904'),\n",
       " ('Robert Snyder', '17-DL-4885'),\n",
       " ('Sabrina Thompson', '05-MN-17446'),\n",
       " ('Carrie Sullivan', '04-L-19474'),\n",
       " ('Katherine Dalton', '99-WW-237'),\n",
       " ('Melanie White', '03-G-36241'),\n",
       " ('Marie Carr', '09-W-11201'),\n",
       " ('Jeff Stevens', '13-MO-34031'),\n",
       " ('Robert Price', '02-KK-25507'),\n",
       " ('Donna Mason', '08-LH-46637'),\n",
       " ('Marcus Malone', '12-KY-47631'),\n",
       " ('James Walker', '01-SO-45136'),\n",
       " ('James Williams', '18-WH-15349'),\n",
       " ('James Williams', '14-MO-11345'),\n",
       " ('Seth Simpson', '13-CE-10371'),\n",
       " ('Melissa Bell', '17-KE-21153'),\n",
       " ('Donna Mason', '12-G-30288'),\n",
       " ('Crystal Murphy', '13-T-20412'),\n",
       " ('Robert Snyder', '08-LS-13835'),\n",
       " ('Megan Reyes', '12-CW-37691'),\n",
       " ('Marie Carr', '00-KY-48702'),\n",
       " ('Marc Chapman', '14-LD-41919'),\n",
       " ('Seth Simpson', '18-W-16094'),\n",
       " ('Crystal Murphy', '11-MH-39456'),\n",
       " ('Donna Mason', '01-KK-21586'),\n",
       " ('Jennifer Reeves', '09-WX-7243'),\n",
       " ('Karen Roach', '12-WX-26308'),\n",
       " ('Robert Price', '02-LS-42993'),\n",
       " ('Jennifer Sutton', '18-W-44751'),\n",
       " ('Kelly Walker', '11-L-45810'),\n",
       " ('Valerie Rodriguez', '12-MH-7025'),\n",
       " ('Alan Williams', '09-CW-13802'),\n",
       " ('Jennifer Sutton', '11-KK-40419'),\n",
       " ('Marc Chapman', '09-MO-27719'),\n",
       " ('Donna Mason', '99-RN-21293'),\n",
       " ('Gregory Charles', '06-KK-24445'),\n",
       " ('Stephen Oneal', '99-DL-44188'),\n",
       " ('Robert Snyder', '17-CW-12306'),\n",
       " ('John Davis', '12-WH-30512'),\n",
       " ('Lori Martin', '13-CW-22728'),\n",
       " ('Carrie Sullivan', '15-G-27780'),\n",
       " ('Rachel Johnson', '99-WX-37648'),\n",
       " ('William Hall', '07-G-30931'),\n",
       " ('Valerie Stewart', '08-G-34713'),\n",
       " ('Leonard Chen', '03-MO-23757'),\n",
       " ('Rachel Johnson', '09-LD-32395'),\n",
       " ('Lori Martin', '05-KE-47018'),\n",
       " ('Raymond Gould', '18-RN-21403'),\n",
       " ('Gail Jones', '02-LH-37988'),\n",
       " ('Devin Shaw', '11-T-29849'),\n",
       " ('Katherine Dalton', '99-MN-36507'),\n",
       " ('Jeremiah Soto', '15-SO-10080'),\n",
       " ('Sara Lee', '10-KE-5471'),\n",
       " ('Raymond Gould', '09-C-15081'),\n",
       " ('Anna Henry', '12-D-10674'),\n",
       " ('Scott Whitaker', '16-KK-6777'),\n",
       " ('Kerry Curry', '09-KY-24502'),\n",
       " ('Scott Whitaker', '06-L-13615'),\n",
       " ('Robert Fields', '11-WX-6607'),\n",
       " ('Melissa Lowe', '99-KY-44876'),\n",
       " ('Raymond Gould', '01-KE-7495'),\n",
       " ('Peter Vaughn DDS', '06-WH-45961'),\n",
       " ('Justin Casey', '13-RN-48840'),\n",
       " ('Jordan Velasquez', '15-LS-32504'),\n",
       " ('Lori Harmon', '09-KK-33938'),\n",
       " ('Joshua Perez', '15-SO-48732'),\n",
       " ('Robert Price', '18-LH-9276'),\n",
       " ('Timothy Cummings', '00-T-13145'),\n",
       " ('Lori Martin', '17-L-8077'),\n",
       " ('Valerie Rodriguez', '16-KY-38486'),\n",
       " ('Devin Shaw', '13-C-5004'),\n",
       " ('Emily Cooper', '13-KE-8122'),\n",
       " ('Jackson Dean', '13-D-16232'),\n",
       " ('Robert Acevedo', '07-OY-29590'),\n",
       " ('Kathleen Henderson', '18-LS-3902'),\n",
       " ('Melinda Blackwell', '07-LD-25411'),\n",
       " ('Connie Walls', '11-OY-49718'),\n",
       " ('Nicholas Carrillo', '09-OY-12095'),\n",
       " ('Mrs. Sheila Wilkerson', '10-RN-14168'),\n",
       " ('Sabrina Thompson', '00-CN-12132'),\n",
       " ('Leonard Chen', '14-G-24691'),\n",
       " ('Marc Chapman', '08-L-9335'),\n",
       " ('Valerie Stewart', '13-LS-7544'),\n",
       " ('Jennifer Reeves', '15-RN-47108'),\n",
       " ('Megan Reyes', '16-RN-12605'),\n",
       " ('Sabrina Thompson', '15-WX-13974'),\n",
       " ('Katherine Dalton', '00-T-26883'),\n",
       " ('Christopher Miller', '01-C-1695'),\n",
       " ('Katherine Dalton', '11-WW-3780'),\n",
       " ('Robert Price', '06-CW-29425'),\n",
       " ('Seth Simpson', '04-MN-1637'),\n",
       " ('Valerie Rodriguez', '14-OY-39752'),\n",
       " ('Peter Vaughn DDS', '15-MO-15513'),\n",
       " ('Glenn Gonzalez', '16-MN-22976'),\n",
       " ('Emily Alvarado', '07-OY-14928'),\n",
       " ('Christopher Mcmahon', '09-L-10881'),\n",
       " ('Morgan Marsh', '99-WX-23085'),\n",
       " ('Sara Lee', '01-DL-25359'),\n",
       " ('Alan Cabrera', '00-MO-45664'),\n",
       " ('Morgan Marsh', '08-WW-30636'),\n",
       " ('Karen Roach', '01-CN-16097'),\n",
       " ('Robert Price', '07-LM-3132'),\n",
       " ('Anne Anderson', '09-T-9813'),\n",
       " ('Melissa Lowe', '99-CE-38547'),\n",
       " ('Marie Carr', '10-LM-31279'),\n",
       " ('Marcus Malone', '18-LH-44089'),\n",
       " ('Raymond Perkins', '02-SO-11359'),\n",
       " ('Jackson Dean', '10-KE-33674'),\n",
       " ('Gregory Vazquez', '15-KE-8245'),\n",
       " ('Valerie Rodriguez', '09-KK-23170'),\n",
       " ('Billy King', '14-CN-36381'),\n",
       " ('Melinda Blackwell', '00-C-29416'),\n",
       " ('Billy King', '10-OY-1992'),\n",
       " ('Raymond Perkins', '10-T-36797'),\n",
       " ('Donna Mason', '07-KY-35080'),\n",
       " ('Dana Wade', '08-MO-42969'),\n",
       " ('Scott Whitaker', '07-OY-23008'),\n",
       " ('Daniel Smith', '14-MO-46320'),\n",
       " ('William Hall', '09-CW-29560'),\n",
       " ('Megan Reyes', '03-MH-49587'),\n",
       " ('Gail Jones', '10-MH-34061'),\n",
       " ('Robert Snyder', '08-OY-35517'),\n",
       " ('Leonard Chen', '04-KY-47667'),\n",
       " ('Christopher Mcmahon', '03-C-18358'),\n",
       " ('Robert Fields', '11-DL-2662'),\n",
       " ('Dana Wade', '06-CW-15872'),\n",
       " ('Sabrina Thompson', '08-KE-7824'),\n",
       " ('Emily Cooper', '14-WH-21137'),\n",
       " ('Devin Shaw', '11-W-6130'),\n",
       " ('Gregory Charles', '03-C-4508'),\n",
       " ('Jackson Dean', '02-CN-35760'),\n",
       " ('Karen Roach', '13-C-5330'),\n",
       " ('Peter Vaughn DDS', '07-CN-40170'),\n",
       " ('Sara Lee', '07-CW-32094'),\n",
       " ('Katherine Dalton', '13-CW-22639'),\n",
       " ('Katherine Dalton', '10-LD-39262'),\n",
       " ('Frederick Schwartz', '14-CE-46501'),\n",
       " ('Raymond Gould', '16-WW-18559'),\n",
       " ('Emily Alvarado', '11-LD-42457'),\n",
       " ('Justin Casey', '02-W-35723'),\n",
       " ('Robert Price', '13-RN-4833'),\n",
       " ('Sandra Knight', '01-KK-12540'),\n",
       " ('Seth Simpson', '14-CN-39530'),\n",
       " ('Christopher Miller', '08-T-1665'),\n",
       " ('Melissa Bell', '13-LH-30593'),\n",
       " ('Christopher Miller', '06-C-24008'),\n",
       " ('Karen Roach', '12-LH-5689'),\n",
       " ('Kelly Walker', '05-WW-47977'),\n",
       " ('Raymond Gould', '09-KK-5328'),\n",
       " ('Shelby Beck', '10-DL-6386'),\n",
       " ('Kathleen Henderson', '05-MH-22339'),\n",
       " ('David Cox', '02-MH-44541'),\n",
       " ('Melissa Lowe', '18-MN-26444'),\n",
       " ('Jeremiah Soto', '12-LM-22338'),\n",
       " ('Megan Reyes', '18-KY-29981'),\n",
       " ('Seth Simpson', '01-G-8684'),\n",
       " ('Anne Anderson', '04-KY-32797'),\n",
       " ('Marcus Malone', '08-LD-12240'),\n",
       " ('Lori Martin', '18-WW-11514'),\n",
       " ('Stephen Oneal', '03-L-40377'),\n",
       " ('Sabrina Thompson', '15-G-37225'),\n",
       " ('Mrs. Sheila Wilkerson', '14-CN-41515'),\n",
       " ('Shannon Oneal', '09-LS-131'),\n",
       " ('Lucas Ross', '12-LS-47102'),\n",
       " ('Kayla Rodriguez DVM', '15-WX-8189'),\n",
       " ('Lori Martin', '13-CW-21688'),\n",
       " ('Kathleen Henderson', '15-DL-3247'),\n",
       " ('Valerie Rodriguez', '02-D-22267'),\n",
       " ('Jeff Stevens', '01-LS-33323'),\n",
       " ('Leonard Chen', '10-WH-9955'),\n",
       " ('Daniel Smith', '03-MO-4365'),\n",
       " ('Daniel Smith', '04-LD-23688'),\n",
       " ('Katherine Dalton', '13-G-16885'),\n",
       " ('Sabrina Thompson', '18-KE-36389'),\n",
       " ('Jenny Juarez', '01-T-15866'),\n",
       " ('Emily Alvarado', '08-KE-16056'),\n",
       " ('Lori Harmon', '13-G-24475'),\n",
       " ('Nicholas Carrillo', '03-MO-25665'),\n",
       " ('Frederick Schwartz', '18-T-2425'),\n",
       " ('Alan Cabrera', '04-WW-24305'),\n",
       " ('Justin Casey', '13-OY-23701'),\n",
       " ('Raymond Perkins', '08-MO-46007'),\n",
       " ('Glenn Gonzalez', '00-L-47267'),\n",
       " ('Nicholas Carrillo', '08-KK-47849'),\n",
       " ('Alan Cabrera', '16-MN-41115'),\n",
       " ('Stephen Oneal', '02-DL-7526'),\n",
       " ('John Davis', '01-G-15863'),\n",
       " ('Alan Cabrera', '14-SO-6402'),\n",
       " ('David Matthews', '02-CN-7196'),\n",
       " ('Billy King', '01-CW-35670'),\n",
       " ('Jennifer Reeves', '16-T-45794'),\n",
       " ('Timothy Cummings', '08-WX-43305'),\n",
       " ('Jared Nguyen', '15-W-31836'),\n",
       " ('Raymond Gould', '03-KE-1400'),\n",
       " ('Paul Nicholson', '08-WW-22857'),\n",
       " ('Alan Cabrera', '15-L-48040'),\n",
       " ('Frederick Schwartz', '05-CN-49186'),\n",
       " ('Robert Acevedo', '18-T-43669'),\n",
       " ('Kathleen Henderson', '05-WX-40194'),\n",
       " ('John Davis', '07-G-36331'),\n",
       " ('Kelly Walker', '06-WW-48865'),\n",
       " ('Joshua Perez', '16-MO-40801'),\n",
       " ('Gregory Vazquez', '15-L-37732'),\n",
       " ('Dana Wade', '10-G-21752'),\n",
       " ('Raymond Gould', '08-C-34297'),\n",
       " ('Crystal Murphy', '17-SO-23443'),\n",
       " ('Stephen Oneal', '05-CN-5924'),\n",
       " ('Lucas Ross', '05-W-22770'),\n",
       " ('George Fitzgerald', '10-LH-34050'),\n",
       " ('Shannon Oneal', '16-LS-26245'),\n",
       " ('Megan Clarke', '05-D-30917'),\n",
       " ('Stephen Oneal', '07-G-48955'),\n",
       " ('Alan Williams', '13-G-48846'),\n",
       " ('Karen Roach', '05-L-42386'),\n",
       " ('Mrs. Kerry Romero', '08-T-12971'),\n",
       " ('Christopher Miller', '18-WH-6082'),\n",
       " ('Morgan Marsh', '12-MO-30235'),\n",
       " ('Kathleen Henderson', '16-T-22243'),\n",
       " ('Scott Whitaker', '03-L-37130'),\n",
       " ('Megan Reyes', '12-MO-18353'),\n",
       " ('Shannon Oneal', '11-MN-11186'),\n",
       " ('Glenn Gonzalez', '05-WX-40062'),\n",
       " ('Jenny Juarez', '04-D-38409'),\n",
       " ('Laura Miller', '16-CE-29807'),\n",
       " ('Daniel Smith', '15-D-4632'),\n",
       " ('George Fitzgerald', '14-LM-31240'),\n",
       " ('Lucas Ross', '15-LH-20280'),\n",
       " ('Scott Whitaker', '04-L-14265'),\n",
       " ('Jennifer Reeves', '05-KK-13066'),\n",
       " ('Carrie Sullivan', '02-MN-14407'),\n",
       " ('Paul Nicholson', '11-CE-42446'),\n",
       " ('Jenny Juarez', '16-W-29168'),\n",
       " ('William Hall', '03-G-19542'),\n",
       " ('Megan Clarke', '18-MO-35400'),\n",
       " ('Katherine Dalton', '11-KK-35894'),\n",
       " ('Connie Walls', '07-G-5958')]"
      ]
     },
     "execution_count": 77,
     "metadata": {},
     "output_type": "execute_result"
    }
   ],
   "source": [
    "c.execute(\"\"\"\n",
    "    SELECT p.NAME, c.Registration\n",
    "    FROM person as p JOIN car as c ON p.ROWID = c.OwnerId \n",
    "\"\"\")\n",
    "c.fetchall()"
   ]
  },
  {
   "cell_type": "markdown",
   "metadata": {},
   "source": [
    "Something went wrong with the code above. \n",
    "\n",
    "My data didn't join the same as Ian's. I think it may be because I'd used ROWID whereas Ian used ID. When I used ID, it returned an error, as there's no column with that ID in the table person."
   ]
  },
  {
   "cell_type": "code",
   "execution_count": 78,
   "metadata": {},
   "outputs": [],
   "source": [
    "conn.close()"
   ]
  }
 ],
 "metadata": {
  "kernelspec": {
   "display_name": "Python 3",
   "language": "python",
   "name": "python3"
  },
  "language_info": {
   "codemirror_mode": {
    "name": "ipython",
    "version": 3
   },
   "file_extension": ".py",
   "mimetype": "text/x-python",
   "name": "python",
   "nbconvert_exporter": "python",
   "pygments_lexer": "ipython3",
   "version": "3.6.5"
  }
 },
 "nbformat": 4,
 "nbformat_minor": 2
}
