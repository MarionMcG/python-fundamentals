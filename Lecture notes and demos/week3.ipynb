{
 "cells": [
  {
   "cell_type": "markdown",
   "metadata": {},
   "source": [
    "## Week 3 Jupyter Notebooks"
   ]
  },
  {
   "cell_type": "markdown",
   "metadata": {},
   "source": [
    "### This is a mark down cell \n",
    "- Remember to put a space after the Hash character\n",
    "- To render a Markdown cell or run a code cell, press Shift + Enter"
   ]
  },
  {
   "cell_type": "code",
   "execution_count": 4,
   "metadata": {},
   "outputs": [],
   "source": [
    "import numpy as np\n",
    "import matplotlib.pyplot as plt"
   ]
  },
  {
   "cell_type": "code",
   "execution_count": 5,
   "metadata": {
    "scrolled": true
   },
   "outputs": [
    {
     "data": {
      "text/plain": [
       "17.351874788031925"
      ]
     },
     "execution_count": 5,
     "metadata": {},
     "output_type": "execute_result"
    }
   ],
   "source": [
    "np.random.uniform (0, 10)\n",
    "np.random.uniform (0, 50)"
   ]
  },
  {
   "cell_type": "code",
   "execution_count": 6,
   "metadata": {},
   "outputs": [],
   "source": [
    "#Jupyter will only show you the output for the last statement"
   ]
  },
  {
   "cell_type": "code",
   "execution_count": 7,
   "metadata": {},
   "outputs": [
    {
     "name": "stdout",
     "output_type": "stream",
     "text": [
      "3.4133268526203784\n",
      "28.32231355054027\n"
     ]
    }
   ],
   "source": [
    "print(np.random.uniform (0, 10))\n",
    "print(np.random.uniform (0, 50))"
   ]
  },
  {
   "cell_type": "code",
   "execution_count": null,
   "metadata": {},
   "outputs": [],
   "source": [
    "#unless you wrap them in a print statement"
   ]
  },
  {
   "cell_type": "markdown",
   "metadata": {},
   "source": [
    "### Modes and Shortcuts\n",
    "Different Modes let you use keyboard shortcuts easier\n",
    "* Edit Mode - allows you to edit text in your cells (Green Bar). Esc to go to Command mode \n",
    "* Command Mode - moving cells around, add below or above, deleting cells (Blue Bar). Enter to go to Edit mode\n",
    "\n",
    "#### Shortcuts for both modes are found in the Help menu"
   ]
  },
  {
   "cell_type": "markdown",
   "metadata": {},
   "source": [
    "* To change a code cell to markdown, press m \n",
    "* To change a markdown cell back to code (python) press y \n",
    "\n",
    "#### Note: The cell must be in command mode!!"
   ]
  },
  {
   "cell_type": "markdown",
   "metadata": {},
   "source": [
    "When markdown cells are edited, you need to press Shift + Enter to render it again"
   ]
  },
  {
   "cell_type": "markdown",
   "metadata": {},
   "source": [
    "# References\n",
    "- https://github.com/jupyter/jupyter/wiki/A-gallery-of-interesting-Jupyter-Notebooks\n",
    "- https://guides.github.com/features/mastering-markdown/\n",
    "- https://blog.jupyter.org/jupyterlab-is-ready-for-users-5a6f039b8906\n"
   ]
  },
  {
   "cell_type": "code",
   "execution_count": null,
   "metadata": {},
   "outputs": [],
   "source": []
  }
 ],
 "metadata": {
  "kernelspec": {
   "display_name": "Python 3",
   "language": "python",
   "name": "python3"
  },
  "language_info": {
   "codemirror_mode": {
    "name": "ipython",
    "version": 3
   },
   "file_extension": ".py",
   "mimetype": "text/x-python",
   "name": "python",
   "nbconvert_exporter": "python",
   "pygments_lexer": "ipython3",
   "version": "3.6.5"
  }
 },
 "nbformat": 4,
 "nbformat_minor": 2
}
