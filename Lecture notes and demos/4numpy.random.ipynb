{
 "cells": [
  {
   "cell_type": "markdown",
   "metadata": {},
   "source": [
    "# Numpy.random\n",
    "### Used to generate random numbers"
   ]
  },
  {
   "cell_type": "code",
   "execution_count": 3,
   "metadata": {},
   "outputs": [],
   "source": [
    "import numpy as np"
   ]
  },
  {
   "cell_type": "markdown",
   "metadata": {},
   "source": [
    "## Documentation "
   ]
  },
  {
   "cell_type": "markdown",
   "metadata": {},
   "source": [
    "* [QuickStart Tutorial for NumPy](https://docs.scipy.org/doc/numpy-1.15.1/user/quickstart.html)\n",
    "* [Documentation for Numpy.random](https://docs.scipy.org/doc/numpy-1.13.0/reference/routines.random.html)"
   ]
  },
  {
   "cell_type": "markdown",
   "metadata": {},
   "source": [
    "### Rand()"
   ]
  },
  {
   "cell_type": "code",
   "execution_count": 5,
   "metadata": {},
   "outputs": [
    {
     "data": {
      "text/plain": [
       "array([[[[0.67298208, 0.32075013, 0.67827581, 0.14579965],\n",
       "         [0.06429439, 0.70653539, 0.08480553, 0.08987874],\n",
       "         [0.94783208, 0.65224617, 0.86400806, 0.74014711]],\n",
       "\n",
       "        [[0.8120124 , 0.49322433, 0.902133  , 0.67931128],\n",
       "         [0.63483432, 0.36852375, 0.46705068, 0.56804698],\n",
       "         [0.8580601 , 0.39453447, 0.64524646, 0.14799887]]]])"
      ]
     },
     "execution_count": 5,
     "metadata": {},
     "output_type": "execute_result"
    }
   ],
   "source": [
    "x = np.random.rand(1, 2, 3, 4)\n",
    "x"
   ]
  },
  {
   "cell_type": "markdown",
   "metadata": {},
   "source": [
    "So what have I just done. This function has returned two arrays with 3 arrays each with four numbers between 0 and 1. All positive. Let's look at [documentation](https://docs.scipy.org/doc/numpy-1.13.0/reference/generated/numpy.random.rand.html#numpy.random.rand)"
   ]
  },
  {
   "cell_type": "code",
   "execution_count": 6,
   "metadata": {},
   "outputs": [
    {
     "data": {
      "text/plain": [
       "0.6958287159458835"
      ]
     },
     "execution_count": 6,
     "metadata": {},
     "output_type": "execute_result"
    }
   ],
   "source": [
    "x = np.random.rand()\n",
    "x"
   ]
  },
  {
   "cell_type": "markdown",
   "metadata": {},
   "source": [
    "Returns just one float"
   ]
  },
  {
   "cell_type": "code",
   "execution_count": 7,
   "metadata": {},
   "outputs": [
    {
     "data": {
      "text/plain": [
       "array([0.5930124 , 0.70323892])"
      ]
     },
     "execution_count": 7,
     "metadata": {},
     "output_type": "execute_result"
    }
   ],
   "source": [
    "x = np.random.rand(2)\n",
    "x\n"
   ]
  },
  {
   "cell_type": "markdown",
   "metadata": {},
   "source": [
    "returns an array with 2 floats"
   ]
  },
  {
   "cell_type": "code",
   "execution_count": 9,
   "metadata": {},
   "outputs": [
    {
     "data": {
      "text/plain": [
       "array([[0.26545113, 0.36973889],\n",
       "       [0.63488384, 0.94472723],\n",
       "       [0.94868942, 0.9349393 ]])"
      ]
     },
     "execution_count": 9,
     "metadata": {},
     "output_type": "execute_result"
    }
   ],
   "source": [
    "x = np.random.rand(3, 2)\n",
    "x"
   ]
  },
  {
   "cell_type": "markdown",
   "metadata": {},
   "source": [
    "Returns 3 arrays with 2 floats"
   ]
  },
  {
   "cell_type": "code",
   "execution_count": 11,
   "metadata": {},
   "outputs": [
    {
     "data": {
      "text/plain": [
       "array([[0.68253805, 0.70340162, 0.40503542],\n",
       "       [0.42625376, 0.19285255, 0.7647048 ]])"
      ]
     },
     "execution_count": 11,
     "metadata": {},
     "output_type": "execute_result"
    }
   ],
   "source": [
    "x = np.random.rand(2, 3)\n",
    "x"
   ]
  },
  {
   "cell_type": "markdown",
   "metadata": {},
   "source": [
    "Returns two arrays with 3 floats"
   ]
  },
  {
   "cell_type": "code",
   "execution_count": 12,
   "metadata": {},
   "outputs": [],
   "source": [
    "import matplotlib.pyplot as plt"
   ]
  },
  {
   "cell_type": "code",
   "execution_count": 14,
   "metadata": {},
   "outputs": [
    {
     "data": {
      "image/png": "[encoded data removed]",
      "text/plain": [
       "<Figure size 432x288 with 1 Axes>"
      ]
     },
     "metadata": {},
     "output_type": "display_data"
    }
   ],
   "source": [
    "x = np.random.rand(10000)\n",
    "plt.hist(x)\n",
    "plt.show()"
   ]
  },
  {
   "cell_type": "markdown",
   "metadata": {},
   "source": [
    "**NOTE:** All our values are between 0 and 1, so we're always getting a float, and the random numbers are generally uniformly distributed. "
   ]
  },
  {
   "cell_type": "markdown",
   "metadata": {},
   "source": [
    "### Uniform Distribution "
   ]
  },
  {
   "cell_type": "code",
   "execution_count": 22,
   "metadata": {},
   "outputs": [
    {
     "data": {
      "text/plain": [
       "array([-0.71986484, -0.72089758, -0.91213907, -0.8444338 , -0.01884264,\n",
       "       -0.71335705, -0.84778992, -0.24661994, -0.2959085 , -0.66404373,\n",
       "       -0.25648613, -0.3214317 , -0.10326059, -0.14923922, -0.02906663,\n",
       "       -0.37648932, -0.92236616, -0.77170457, -0.44080536, -0.99869142,\n",
       "       -0.44317281, -0.33239392, -0.29755129, -0.82346453, -0.77851854,\n",
       "       -0.24778433, -0.50362852, -0.00730151, -0.13121174, -0.70063006,\n",
       "       -0.90583426, -0.9984331 , -0.58093131, -0.49651008, -0.33408378,\n",
       "       -0.28072951, -0.02943153, -0.81288771, -0.83278177, -0.78760954,\n",
       "       -0.94328764, -0.20353015, -0.07313859, -0.48822021, -0.27471492,\n",
       "       -0.3523538 , -0.13656322, -0.04194707, -0.23926692, -0.67585404,\n",
       "       -0.218123  , -0.15760231, -0.97588669, -0.08672808, -0.87377831,\n",
       "       -0.15387674, -0.35609089, -0.68786978, -0.73414957, -0.05182871,\n",
       "       -0.27760938, -0.05096184, -0.03189409, -0.33831272, -0.01538882,\n",
       "       -0.00489874, -0.68890344, -0.75524278, -0.32369429, -0.35995914,\n",
       "       -0.63173088, -0.02717764, -0.68620165, -0.79762882, -0.70342177,\n",
       "       -0.33836107, -0.13599178, -0.34436195, -0.86487621, -0.16910701,\n",
       "       -0.82080799, -0.37564495, -0.71669195, -0.47825584, -0.68747349,\n",
       "       -0.21997209, -0.98562926, -0.97876617, -0.23462782, -0.22684649,\n",
       "       -0.85775643, -0.9012701 , -0.15822371, -0.62344764, -0.37316928,\n",
       "       -0.98694253, -0.52732392, -0.52588491, -0.72119416, -0.38913553])"
      ]
     },
     "execution_count": 22,
     "metadata": {},
     "output_type": "execute_result"
    }
   ],
   "source": [
    "x = np.random.uniform(-1.00000001, 0, 100)\n",
    "x"
   ]
  },
  {
   "cell_type": "markdown",
   "metadata": {},
   "source": [
    "np.random.uniform(a, b, c) where a is the lower bound and b is the upper bound and the number of values returned is c"
   ]
  },
  {
   "cell_type": "markdown",
   "metadata": {},
   "source": [
    "#### Weird behaviour - what happens when my lower bound is larger than my upper bound"
   ]
  },
  {
   "cell_type": "code",
   "execution_count": 23,
   "metadata": {},
   "outputs": [
    {
     "data": {
      "text/plain": [
       "array([8.27284003, 8.51725118, 9.25843586, 9.73951844, 8.89041053,\n",
       "       8.71524292, 8.37403934, 8.36110626, 9.08668477, 9.71136747])"
      ]
     },
     "execution_count": 23,
     "metadata": {},
     "output_type": "execute_result"
    }
   ],
   "source": [
    "np.random.uniform(10, 8, 10)"
   ]
  },
  {
   "cell_type": "code",
   "execution_count": 24,
   "metadata": {},
   "outputs": [
    {
     "data": {
      "image/png": "[encoded data removed]",
      "text/plain": [
       "<Figure size 432x288 with 1 Axes>"
      ]
     },
     "metadata": {},
     "output_type": "display_data"
    }
   ],
   "source": [
    "plt.hist(x)\n",
    "plt.show()"
   ]
  },
  {
   "cell_type": "markdown",
   "metadata": {},
   "source": [
    "### Normal Distribution"
   ]
  },
  {
   "cell_type": "code",
   "execution_count": 29,
   "metadata": {},
   "outputs": [
    {
     "data": {
      "image/png": "[encoded data removed]",
      "text/plain": [
       "<Figure size 432x288 with 1 Axes>"
      ]
     },
     "metadata": {},
     "output_type": "display_data"
    }
   ],
   "source": [
    "y = np.random.normal(10, 3, 100000)\n",
    "plt.hist(y)\n",
    "plt.show()"
   ]
  },
  {
   "cell_type": "markdown",
   "metadata": {},
   "source": [
    "In the above example, my mean is 10 and standard deviation is 3 and I have 100000 values"
   ]
  },
  {
   "cell_type": "markdown",
   "metadata": {},
   "source": [
    "### Seeds - The Random Generator"
   ]
  },
  {
   "cell_type": "markdown",
   "metadata": {},
   "source": [
    "Computers aren't great at generating random numbers, but they're better than people. They generate pseudo random numbers, or numbers that look random. However if you know the 'Seed', you could predict the number(s) that will appear. "
   ]
  },
  {
   "cell_type": "markdown",
   "metadata": {},
   "source": [
    "If you're testing your code you will probably want it to generate the same random numbers each time, and to do this you will need the 'Seed'."
   ]
  },
  {
   "cell_type": "markdown",
   "metadata": {},
   "source": [
    "Random number generation is still an active area of study. "
   ]
  }
 ],
 "metadata": {
  "kernelspec": {
   "display_name": "Python 3",
   "language": "python",
   "name": "python3"
  },
  "language_info": {
   "codemirror_mode": {
    "name": "ipython",
    "version": 3
   },
   "file_extension": ".py",
   "mimetype": "text/x-python",
   "name": "python",
   "nbconvert_exporter": "python",
   "pygments_lexer": "ipython3",
   "version": "3.6.5"
  }
 },
 "nbformat": 4,
 "nbformat_minor": 2
}
